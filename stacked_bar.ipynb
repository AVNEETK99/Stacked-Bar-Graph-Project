{
 "cells": [
  {
   "cell_type": "code",
   "execution_count": 8,
   "id": "d8369190",
   "metadata": {},
   "outputs": [
    {
     "data": {
      "image/png": "[encoded data removed]",
      "text/plain": [
       "<Figure size 432x288 with 1 Axes>"
      ]
     },
     "metadata": {
      "needs_background": "light"
     },
     "output_type": "display_data"
    }
   ],
   "source": [
    "# importing package\n",
    "import matplotlib.pyplot as plt\n",
    "\n",
    "# create data\n",
    "x = ['A', 'B', 'C', 'D']\n",
    "y1 = [10, 20, 10, 30]\n",
    "y2 = [20, 25, 15, 25]\n",
    "\n",
    "# plot bars in stack manner\n",
    "plt.bar(x, y1, color='r')\n",
    "plt.bar(x, y2, bottom=y1, color='b')\n",
    "plt.show()\n"
   ]
  },
  {
   "cell_type": "code",
   "execution_count": 9,
   "id": "d11ba52a",
   "metadata": {},
   "outputs": [
    {
     "data": {
      "image/png": "[encoded data removed]",
      "text/plain": [
       "<Figure size 432x288 with 1 Axes>"
      ]
     },
     "metadata": {
      "needs_background": "light"
     },
     "output_type": "display_data"
    }
   ],
   "source": [
    "# importing package\n",
    "import matplotlib.pyplot as plt\n",
    "import numpy as np\n",
    "\n",
    "# create data\n",
    "x = ['A', 'B', 'C', 'D']\n",
    "y1 = np.array([10, 20, 10, 30])\n",
    "y2 = np.array([20, 25, 15, 25])\n",
    "y3 = np.array([12, 15, 19, 6])\n",
    "y4 = np.array([10, 29, 13, 19])\n",
    "\n",
    "# plot bars in stack manner\n",
    "plt.bar(x, y1, color='r')\n",
    "plt.bar(x, y2, bottom=y1, color='b')\n",
    "plt.bar(x, y3, bottom=y1+y2, color='y')\n",
    "plt.bar(x, y4, bottom=y1+y2+y3, color='g')\n",
    "plt.xlabel(\"Teams\")\n",
    "plt.ylabel(\"Score\")\n",
    "plt.legend([\"Round 1\", \"Round 2\", \"Round 3\", \"Round 4\"])\n",
    "plt.title(\"Scores by Teams in 4 Rounds\")\n",
    "plt.show()\n"
   ]
  },
  {
   "cell_type": "code",
   "execution_count": 10,
   "id": "4ab32463",
   "metadata": {},
   "outputs": [
    {
     "name": "stdout",
     "output_type": "stream",
     "text": [
      "  Team  Round 1  Round 2  Round 3  Round 4\n",
      "0    A       10       20       10       26\n",
      "1    B       20       25       15       21\n",
      "2    C       12       15       19        6\n",
      "3    D       10       18       11       19\n"
     ]
    },
    {
     "data": {
      "text/plain": [
       "<AxesSubplot:title={'center':'Stacked Bar Graph by dataframe'}, xlabel='Team'>"
      ]
     },
     "execution_count": 10,
     "metadata": {},
     "output_type": "execute_result"
    },
    {
     "data": {
      "image/png": "[encoded data removed]",
      "text/plain": [
       "<Figure size 432x288 with 1 Axes>"
      ]
     },
     "metadata": {
      "needs_background": "light"
     },
     "output_type": "display_data"
    }
   ],
   "source": [
    "# importing package\n",
    "import matplotlib.pyplot as plt\n",
    "import numpy as np\n",
    "import pandas as pd\n",
    "\n",
    "# create data\n",
    "df = pd.DataFrame([['A', 10, 20, 10, 26], ['B', 20, 25, 15, 21], ['C', 12, 15, 19, 6],\n",
    "\t\t\t\t['D', 10, 18, 11, 19]],\n",
    "\t\t\t\tcolumns=['Team', 'Round 1', 'Round 2', 'Round 3', 'Round 4'])\n",
    "# view data\n",
    "print(df)\n",
    "\n",
    "# plot data in stack manner of bar type\n",
    "df.plot(x='Team', kind='bar', stacked=True,\n",
    "\t\ttitle='Stacked Bar Graph by dataframe')\n"
   ]
  }
 ],
 "metadata": {
  "kernelspec": {
   "display_name": "Python 3 (ipykernel)",
   "language": "python",
   "name": "python3"
  },
  "language_info": {
   "codemirror_mode": {
    "name": "ipython",
    "version": 3
   },
   "file_extension": ".py",
   "mimetype": "text/x-python",
   "name": "python",
   "nbconvert_exporter": "python",
   "pygments_lexer": "ipython3",
   "version": "3.10.3"
  }
 },
 "nbformat": 4,
 "nbformat_minor": 5
}
